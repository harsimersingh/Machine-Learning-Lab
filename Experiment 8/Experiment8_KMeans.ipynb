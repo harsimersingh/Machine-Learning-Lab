{
 "cells": [
  {
   "cell_type": "code",
   "execution_count": 1,
   "id": "compact-stanford",
   "metadata": {},
   "outputs": [],
   "source": [
    "import pandas as pd\n",
    "import numpy as np\n",
    "import matplotlib.pyplot as plt\n",
    "from sklearn.cluster import KMeans"
   ]
  },
  {
   "cell_type": "code",
   "execution_count": 2,
   "id": "threaded-portland",
   "metadata": {},
   "outputs": [],
   "source": [
    "df1 = pd.read_csv(\"Country-data.csv\")\n",
    "df2 = pd.read_csv(\"creditcard.csv\")"
   ]
  },
  {
   "cell_type": "code",
   "execution_count": 3,
   "id": "expressed-tuner",
   "metadata": {},
   "outputs": [
    {
     "data": {
      "text/html": [
       "<div>\n",
       "<style scoped>\n",
       "    .dataframe tbody tr th:only-of-type {\n",
       "        vertical-align: middle;\n",
       "    }\n",
       "\n",
       "    .dataframe tbody tr th {\n",
       "        vertical-align: top;\n",
       "    }\n",
       "\n",
       "    .dataframe thead th {\n",
       "        text-align: right;\n",
       "    }\n",
       "</style>\n",
       "<table border=\"1\" class=\"dataframe\">\n",
       "  <thead>\n",
       "    <tr style=\"text-align: right;\">\n",
       "      <th></th>\n",
       "      <th>country</th>\n",
       "      <th>child_mort</th>\n",
       "      <th>exports</th>\n",
       "      <th>health</th>\n",
       "      <th>imports</th>\n",
       "      <th>income</th>\n",
       "      <th>inflation</th>\n",
       "      <th>life_expec</th>\n",
       "      <th>total_fer</th>\n",
       "      <th>gdpp</th>\n",
       "    </tr>\n",
       "  </thead>\n",
       "  <tbody>\n",
       "    <tr>\n",
       "      <th>0</th>\n",
       "      <td>Afghanistan</td>\n",
       "      <td>90.2</td>\n",
       "      <td>10.0</td>\n",
       "      <td>7.58</td>\n",
       "      <td>44.9</td>\n",
       "      <td>1610</td>\n",
       "      <td>9.44</td>\n",
       "      <td>56.2</td>\n",
       "      <td>5.82</td>\n",
       "      <td>553</td>\n",
       "    </tr>\n",
       "    <tr>\n",
       "      <th>1</th>\n",
       "      <td>Albania</td>\n",
       "      <td>16.6</td>\n",
       "      <td>28.0</td>\n",
       "      <td>6.55</td>\n",
       "      <td>48.6</td>\n",
       "      <td>9930</td>\n",
       "      <td>4.49</td>\n",
       "      <td>76.3</td>\n",
       "      <td>1.65</td>\n",
       "      <td>4090</td>\n",
       "    </tr>\n",
       "    <tr>\n",
       "      <th>2</th>\n",
       "      <td>Algeria</td>\n",
       "      <td>27.3</td>\n",
       "      <td>38.4</td>\n",
       "      <td>4.17</td>\n",
       "      <td>31.4</td>\n",
       "      <td>12900</td>\n",
       "      <td>16.10</td>\n",
       "      <td>76.5</td>\n",
       "      <td>2.89</td>\n",
       "      <td>4460</td>\n",
       "    </tr>\n",
       "    <tr>\n",
       "      <th>3</th>\n",
       "      <td>Angola</td>\n",
       "      <td>119.0</td>\n",
       "      <td>62.3</td>\n",
       "      <td>2.85</td>\n",
       "      <td>42.9</td>\n",
       "      <td>5900</td>\n",
       "      <td>22.40</td>\n",
       "      <td>60.1</td>\n",
       "      <td>6.16</td>\n",
       "      <td>3530</td>\n",
       "    </tr>\n",
       "    <tr>\n",
       "      <th>4</th>\n",
       "      <td>Antigua and Barbuda</td>\n",
       "      <td>10.3</td>\n",
       "      <td>45.5</td>\n",
       "      <td>6.03</td>\n",
       "      <td>58.9</td>\n",
       "      <td>19100</td>\n",
       "      <td>1.44</td>\n",
       "      <td>76.8</td>\n",
       "      <td>2.13</td>\n",
       "      <td>12200</td>\n",
       "    </tr>\n",
       "  </tbody>\n",
       "</table>\n",
       "</div>"
      ],
      "text/plain": [
       "               country  child_mort  exports  health  imports  income  \\\n",
       "0          Afghanistan        90.2     10.0    7.58     44.9    1610   \n",
       "1              Albania        16.6     28.0    6.55     48.6    9930   \n",
       "2              Algeria        27.3     38.4    4.17     31.4   12900   \n",
       "3               Angola       119.0     62.3    2.85     42.9    5900   \n",
       "4  Antigua and Barbuda        10.3     45.5    6.03     58.9   19100   \n",
       "\n",
       "   inflation  life_expec  total_fer   gdpp  \n",
       "0       9.44        56.2       5.82    553  \n",
       "1       4.49        76.3       1.65   4090  \n",
       "2      16.10        76.5       2.89   4460  \n",
       "3      22.40        60.1       6.16   3530  \n",
       "4       1.44        76.8       2.13  12200  "
      ]
     },
     "execution_count": 3,
     "metadata": {},
     "output_type": "execute_result"
    }
   ],
   "source": [
    "df1.head()"
   ]
  },
  {
   "cell_type": "code",
   "execution_count": 4,
   "id": "informative-south",
   "metadata": {},
   "outputs": [
    {
     "data": {
      "text/html": [
       "<div>\n",
       "<style scoped>\n",
       "    .dataframe tbody tr th:only-of-type {\n",
       "        vertical-align: middle;\n",
       "    }\n",
       "\n",
       "    .dataframe tbody tr th {\n",
       "        vertical-align: top;\n",
       "    }\n",
       "\n",
       "    .dataframe thead th {\n",
       "        text-align: right;\n",
       "    }\n",
       "</style>\n",
       "<table border=\"1\" class=\"dataframe\">\n",
       "  <thead>\n",
       "    <tr style=\"text-align: right;\">\n",
       "      <th></th>\n",
       "      <th>Time</th>\n",
       "      <th>V1</th>\n",
       "      <th>V2</th>\n",
       "      <th>V3</th>\n",
       "      <th>V4</th>\n",
       "      <th>V5</th>\n",
       "      <th>V6</th>\n",
       "      <th>V7</th>\n",
       "      <th>V8</th>\n",
       "      <th>V9</th>\n",
       "      <th>...</th>\n",
       "      <th>V21</th>\n",
       "      <th>V22</th>\n",
       "      <th>V23</th>\n",
       "      <th>V24</th>\n",
       "      <th>V25</th>\n",
       "      <th>V26</th>\n",
       "      <th>V27</th>\n",
       "      <th>V28</th>\n",
       "      <th>Amount</th>\n",
       "      <th>Class</th>\n",
       "    </tr>\n",
       "  </thead>\n",
       "  <tbody>\n",
       "    <tr>\n",
       "      <th>0</th>\n",
       "      <td>0.0</td>\n",
       "      <td>-1.359807</td>\n",
       "      <td>-0.072781</td>\n",
       "      <td>2.536347</td>\n",
       "      <td>1.378155</td>\n",
       "      <td>-0.338321</td>\n",
       "      <td>0.462388</td>\n",
       "      <td>0.239599</td>\n",
       "      <td>0.098698</td>\n",
       "      <td>0.363787</td>\n",
       "      <td>...</td>\n",
       "      <td>-0.018307</td>\n",
       "      <td>0.277838</td>\n",
       "      <td>-0.110474</td>\n",
       "      <td>0.066928</td>\n",
       "      <td>0.128539</td>\n",
       "      <td>-0.189115</td>\n",
       "      <td>0.133558</td>\n",
       "      <td>-0.021053</td>\n",
       "      <td>149.62</td>\n",
       "      <td>0</td>\n",
       "    </tr>\n",
       "    <tr>\n",
       "      <th>1</th>\n",
       "      <td>0.0</td>\n",
       "      <td>1.191857</td>\n",
       "      <td>0.266151</td>\n",
       "      <td>0.166480</td>\n",
       "      <td>0.448154</td>\n",
       "      <td>0.060018</td>\n",
       "      <td>-0.082361</td>\n",
       "      <td>-0.078803</td>\n",
       "      <td>0.085102</td>\n",
       "      <td>-0.255425</td>\n",
       "      <td>...</td>\n",
       "      <td>-0.225775</td>\n",
       "      <td>-0.638672</td>\n",
       "      <td>0.101288</td>\n",
       "      <td>-0.339846</td>\n",
       "      <td>0.167170</td>\n",
       "      <td>0.125895</td>\n",
       "      <td>-0.008983</td>\n",
       "      <td>0.014724</td>\n",
       "      <td>2.69</td>\n",
       "      <td>0</td>\n",
       "    </tr>\n",
       "    <tr>\n",
       "      <th>2</th>\n",
       "      <td>1.0</td>\n",
       "      <td>-1.358354</td>\n",
       "      <td>-1.340163</td>\n",
       "      <td>1.773209</td>\n",
       "      <td>0.379780</td>\n",
       "      <td>-0.503198</td>\n",
       "      <td>1.800499</td>\n",
       "      <td>0.791461</td>\n",
       "      <td>0.247676</td>\n",
       "      <td>-1.514654</td>\n",
       "      <td>...</td>\n",
       "      <td>0.247998</td>\n",
       "      <td>0.771679</td>\n",
       "      <td>0.909412</td>\n",
       "      <td>-0.689281</td>\n",
       "      <td>-0.327642</td>\n",
       "      <td>-0.139097</td>\n",
       "      <td>-0.055353</td>\n",
       "      <td>-0.059752</td>\n",
       "      <td>378.66</td>\n",
       "      <td>0</td>\n",
       "    </tr>\n",
       "    <tr>\n",
       "      <th>3</th>\n",
       "      <td>1.0</td>\n",
       "      <td>-0.966272</td>\n",
       "      <td>-0.185226</td>\n",
       "      <td>1.792993</td>\n",
       "      <td>-0.863291</td>\n",
       "      <td>-0.010309</td>\n",
       "      <td>1.247203</td>\n",
       "      <td>0.237609</td>\n",
       "      <td>0.377436</td>\n",
       "      <td>-1.387024</td>\n",
       "      <td>...</td>\n",
       "      <td>-0.108300</td>\n",
       "      <td>0.005274</td>\n",
       "      <td>-0.190321</td>\n",
       "      <td>-1.175575</td>\n",
       "      <td>0.647376</td>\n",
       "      <td>-0.221929</td>\n",
       "      <td>0.062723</td>\n",
       "      <td>0.061458</td>\n",
       "      <td>123.50</td>\n",
       "      <td>0</td>\n",
       "    </tr>\n",
       "    <tr>\n",
       "      <th>4</th>\n",
       "      <td>2.0</td>\n",
       "      <td>-1.158233</td>\n",
       "      <td>0.877737</td>\n",
       "      <td>1.548718</td>\n",
       "      <td>0.403034</td>\n",
       "      <td>-0.407193</td>\n",
       "      <td>0.095921</td>\n",
       "      <td>0.592941</td>\n",
       "      <td>-0.270533</td>\n",
       "      <td>0.817739</td>\n",
       "      <td>...</td>\n",
       "      <td>-0.009431</td>\n",
       "      <td>0.798278</td>\n",
       "      <td>-0.137458</td>\n",
       "      <td>0.141267</td>\n",
       "      <td>-0.206010</td>\n",
       "      <td>0.502292</td>\n",
       "      <td>0.219422</td>\n",
       "      <td>0.215153</td>\n",
       "      <td>69.99</td>\n",
       "      <td>0</td>\n",
       "    </tr>\n",
       "  </tbody>\n",
       "</table>\n",
       "<p>5 rows × 31 columns</p>\n",
       "</div>"
      ],
      "text/plain": [
       "   Time        V1        V2        V3        V4        V5        V6        V7  \\\n",
       "0   0.0 -1.359807 -0.072781  2.536347  1.378155 -0.338321  0.462388  0.239599   \n",
       "1   0.0  1.191857  0.266151  0.166480  0.448154  0.060018 -0.082361 -0.078803   \n",
       "2   1.0 -1.358354 -1.340163  1.773209  0.379780 -0.503198  1.800499  0.791461   \n",
       "3   1.0 -0.966272 -0.185226  1.792993 -0.863291 -0.010309  1.247203  0.237609   \n",
       "4   2.0 -1.158233  0.877737  1.548718  0.403034 -0.407193  0.095921  0.592941   \n",
       "\n",
       "         V8        V9  ...       V21       V22       V23       V24       V25  \\\n",
       "0  0.098698  0.363787  ... -0.018307  0.277838 -0.110474  0.066928  0.128539   \n",
       "1  0.085102 -0.255425  ... -0.225775 -0.638672  0.101288 -0.339846  0.167170   \n",
       "2  0.247676 -1.514654  ...  0.247998  0.771679  0.909412 -0.689281 -0.327642   \n",
       "3  0.377436 -1.387024  ... -0.108300  0.005274 -0.190321 -1.175575  0.647376   \n",
       "4 -0.270533  0.817739  ... -0.009431  0.798278 -0.137458  0.141267 -0.206010   \n",
       "\n",
       "        V26       V27       V28  Amount  Class  \n",
       "0 -0.189115  0.133558 -0.021053  149.62      0  \n",
       "1  0.125895 -0.008983  0.014724    2.69      0  \n",
       "2 -0.139097 -0.055353 -0.059752  378.66      0  \n",
       "3 -0.221929  0.062723  0.061458  123.50      0  \n",
       "4  0.502292  0.219422  0.215153   69.99      0  \n",
       "\n",
       "[5 rows x 31 columns]"
      ]
     },
     "execution_count": 4,
     "metadata": {},
     "output_type": "execute_result"
    }
   ],
   "source": [
    "df2.head()"
   ]
  },
  {
   "cell_type": "code",
   "execution_count": 5,
   "id": "great-niagara",
   "metadata": {},
   "outputs": [
    {
     "data": {
      "text/plain": [
       "array([0, 1], dtype=int64)"
      ]
     },
     "execution_count": 5,
     "metadata": {},
     "output_type": "execute_result"
    }
   ],
   "source": [
    "np.unique(df2[\"Class\"].values)"
   ]
  },
  {
   "cell_type": "code",
   "execution_count": 6,
   "id": "secret-caution",
   "metadata": {},
   "outputs": [],
   "source": [
    "df11 = df2[df2.columns[1:]]\n",
    "df21 = df2[df2.columns[:-1]]"
   ]
  },
  {
   "cell_type": "code",
   "execution_count": 7,
   "id": "surprising-water",
   "metadata": {},
   "outputs": [],
   "source": [
    "X1 = df11.values\n",
    "X2 = df21.values"
   ]
  },
  {
   "cell_type": "code",
   "execution_count": 8,
   "id": "perfect-gamma",
   "metadata": {},
   "outputs": [
    {
     "data": {
      "text/plain": [
       "((284807, 30), (284807, 30))"
      ]
     },
     "execution_count": 8,
     "metadata": {},
     "output_type": "execute_result"
    }
   ],
   "source": [
    "X1.shape, X2.shape"
   ]
  },
  {
   "cell_type": "markdown",
   "id": "brown-edmonton",
   "metadata": {},
   "source": [
    "Country data for k=2"
   ]
  },
  {
   "cell_type": "code",
   "execution_count": 9,
   "id": "respected-thomas",
   "metadata": {},
   "outputs": [],
   "source": [
    "model = KMeans(n_clusters=2, n_init=4, verbose=1, max_iter=3)"
   ]
  },
  {
   "cell_type": "code",
   "execution_count": 10,
   "id": "ordinary-tissue",
   "metadata": {},
   "outputs": [
    {
     "name": "stdout",
     "output_type": "stream",
     "text": [
      "Initialization complete\n",
      "Iteration 0, inertia 8974711044.464308\n",
      "Iteration 1, inertia 8846032840.929388\n",
      "Iteration 2, inertia 8821990489.99287\n",
      "Initialization complete\n",
      "Iteration 0, inertia 9763383147.96573\n",
      "Iteration 1, inertia 8985768733.560263\n",
      "Iteration 2, inertia 8901645271.894714\n",
      "Initialization complete\n",
      "Iteration 0, inertia 14712058996.861246\n",
      "Iteration 1, inertia 13075293337.448517\n",
      "Iteration 2, inertia 11757774119.850487\n",
      "Initialization complete\n",
      "Iteration 0, inertia 11247517739.036726\n",
      "Iteration 1, inertia 10539915537.287617\n",
      "Iteration 2, inertia 9969364040.235285\n"
     ]
    },
    {
     "data": {
      "text/plain": [
       "KMeans(max_iter=3, n_clusters=2, n_init=4, verbose=1)"
      ]
     },
     "execution_count": 10,
     "metadata": {},
     "output_type": "execute_result"
    }
   ],
   "source": [
    "model.fit(X1)"
   ]
  },
  {
   "cell_type": "code",
   "execution_count": 11,
   "id": "changing-honolulu",
   "metadata": {},
   "outputs": [
    {
     "data": {
      "text/plain": [
       "array([[ 4.69632267e-02,  9.05244035e-02,  3.60661045e-02,\n",
       "        -1.55643947e-02,  5.16650346e-02, -2.72812858e-02,\n",
       "        -5.19119660e-02,  1.36870799e-02,  5.08582685e-03,\n",
       "         1.18901148e-02, -2.54196889e-04,  1.22487494e-03,\n",
       "         1.12668721e-04, -4.46069321e-03,  1.07453493e-03,\n",
       "         7.50620168e-05, -1.18080217e-03, -1.48480944e-03,\n",
       "         4.49115197e-03, -3.23329347e-02, -8.99978478e-03,\n",
       "         6.48709300e-03,  7.04924314e-03, -5.31200229e-04,\n",
       "         2.73845245e-03, -4.29137423e-04, -1.80220819e-04,\n",
       "        -1.16168780e-03,  6.20311957e+01,  1.67918882e-03],\n",
       "       [-2.14537503e+00, -4.13533755e+00, -1.64757248e+00,\n",
       "         7.11012978e-01, -2.36016311e+00,  1.24626422e+00,\n",
       "         2.37144343e+00, -6.25253447e-01, -2.32330841e-01,\n",
       "        -5.43164452e-01,  1.16122272e-02, -5.59547607e-02,\n",
       "        -5.14693468e-03,  2.03773473e-01, -4.90869257e-02,\n",
       "        -3.42898450e-03,  5.39414278e-02,  6.78290936e-02,\n",
       "        -2.05164891e-01,  1.47703375e+00,  4.11128342e-01,\n",
       "        -2.96343508e-01, -3.22023661e-01,  2.42662991e-02,\n",
       "        -1.25098038e-01,  1.96038641e-02,  8.23285096e-03,\n",
       "         5.30682444e-02,  1.29062835e+03,  3.93378135e-03]])"
      ]
     },
     "execution_count": 11,
     "metadata": {},
     "output_type": "execute_result"
    }
   ],
   "source": [
    "model.cluster_centers_"
   ]
  },
  {
   "cell_type": "code",
   "execution_count": 12,
   "id": "dangerous-horror",
   "metadata": {},
   "outputs": [
    {
     "data": {
      "text/plain": [
       "8808663541.007402"
      ]
     },
     "execution_count": 12,
     "metadata": {},
     "output_type": "execute_result"
    }
   ],
   "source": [
    "model.inertia_"
   ]
  },
  {
   "cell_type": "code",
   "execution_count": 13,
   "id": "monthly-scientist",
   "metadata": {},
   "outputs": [
    {
     "name": "stdout",
     "output_type": "stream",
     "text": [
      "Initialization complete\n",
      "Iteration 0, inertia 125682923173285.62\n",
      "Iteration 1, inertia 118320270466488.2\n",
      "Converged at iteration 1: center shift 1187.4050037793224 within tolerance 7517.262262351321.\n",
      "Initialization complete\n",
      "Iteration 0, inertia 150296733853086.0\n",
      "Iteration 1, inertia 118369518348097.33\n",
      "Iteration 2, inertia 118321325558829.89\n",
      "Initialization complete\n",
      "Iteration 0, inertia 184216389259341.75\n",
      "Iteration 1, inertia 118969819333841.34\n",
      "Iteration 2, inertia 118324953954741.34\n",
      "Initialization complete\n",
      "Iteration 0, inertia 169400627983405.97\n",
      "Iteration 1, inertia 118399235688978.17\n",
      "Iteration 2, inertia 118320841892019.52\n",
      "Converged at iteration 2: center shift 4745.861859614324 within tolerance 7517.262262351321.\n"
     ]
    },
    {
     "data": {
      "text/plain": [
       "KMeans(max_iter=3, n_clusters=2, n_init=4, verbose=1)"
      ]
     },
     "execution_count": 13,
     "metadata": {},
     "output_type": "execute_result"
    }
   ],
   "source": [
    "model = KMeans(n_clusters=2, n_init=4, verbose=1, max_iter=3)\n",
    "model.fit(X2)"
   ]
  },
  {
   "cell_type": "code",
   "execution_count": 14,
   "id": "humanitarian-specialist",
   "metadata": {},
   "outputs": [
    {
     "data": {
      "text/plain": [
       "array([[ 1.41080701e+05,  2.73826415e-01, -5.15359421e-02,\n",
       "        -7.06911786e-01, -1.55088721e-01,  2.79408760e-01,\n",
       "        -8.09538313e-02,  1.21047307e-01, -6.12746712e-02,\n",
       "         4.04616187e-02,  3.45121186e-02, -2.43834471e-01,\n",
       "         3.76187226e-02, -3.36832850e-02, -6.54156813e-02,\n",
       "        -2.12089846e-01,  1.38009807e-02, -5.10221131e-02,\n",
       "         8.25261414e-02,  2.46478504e-02, -4.59814507e-02,\n",
       "         4.32967620e-02,  1.27673120e-01,  3.32659374e-02,\n",
       "        -1.36156327e-02, -1.35720516e-01, -2.67101515e-02,\n",
       "        -2.18711670e-03, -3.32285703e-03,  8.80007217e+01],\n",
       "       [ 5.50501966e+04, -2.35337900e-01,  4.42921491e-02,\n",
       "         6.07549623e-01,  1.33289748e-01, -2.40135601e-01,\n",
       "         6.95751162e-02, -1.04033130e-01,  5.26620210e-02,\n",
       "        -3.47744113e-02, -2.96611615e-02,  2.09561566e-01,\n",
       "        -3.23311072e-02,  2.89488272e-02,  5.62209787e-02,\n",
       "         1.82278905e-01, -1.18611414e-02,  4.38505428e-02,\n",
       "        -7.09264254e-02, -2.11833959e-02,  3.95183862e-02,\n",
       "        -3.72110523e-02, -1.09727631e-01, -2.85901411e-02,\n",
       "         1.17018455e-02,  1.16643901e-01,  2.29558239e-02,\n",
       "         1.87969977e-03,  2.85580262e-03,  8.86494764e+01]])"
      ]
     },
     "execution_count": 14,
     "metadata": {},
     "output_type": "execute_result"
    }
   ],
   "source": [
    "model.cluster_centers_"
   ]
  },
  {
   "cell_type": "code",
   "execution_count": 15,
   "id": "arranged-rendering",
   "metadata": {},
   "outputs": [
    {
     "data": {
      "text/plain": [
       "118320091408059.06"
      ]
     },
     "execution_count": 15,
     "metadata": {},
     "output_type": "execute_result"
    }
   ],
   "source": [
    "model.inertia_"
   ]
  },
  {
   "cell_type": "markdown",
   "id": "excited-millennium",
   "metadata": {},
   "source": [
    "Country Data for k=5"
   ]
  },
  {
   "cell_type": "code",
   "execution_count": 16,
   "id": "still-volleyball",
   "metadata": {},
   "outputs": [
    {
     "name": "stdout",
     "output_type": "stream",
     "text": [
      "Initialization complete\n",
      "Iteration 0, inertia 3503839349.1048403\n",
      "Iteration 1, inertia 2741991913.9281845\n",
      "Iteration 2, inertia 2598413840.9780498\n",
      "Initialization complete\n",
      "Iteration 0, inertia 3975797782.839267\n",
      "Iteration 1, inertia 2773258694.3507123\n",
      "Iteration 2, inertia 2758452222.599601\n",
      "Initialization complete\n",
      "Iteration 0, inertia 2673714958.6006618\n",
      "Iteration 1, inertia 2539438045.1760864\n",
      "Iteration 2, inertia 2535129475.516436\n",
      "Initialization complete\n",
      "Iteration 0, inertia 3199140339.7991977\n",
      "Iteration 1, inertia 2659891401.4953012\n",
      "Iteration 2, inertia 2589332635.754554\n"
     ]
    },
    {
     "data": {
      "text/plain": [
       "KMeans(max_iter=3, n_clusters=5, n_init=4, verbose=1)"
      ]
     },
     "execution_count": 16,
     "metadata": {},
     "output_type": "execute_result"
    }
   ],
   "source": [
    "model = KMeans(n_clusters=5, n_init=4, verbose=1, max_iter=3)\n",
    "model.fit(X1)"
   ]
  },
  {
   "cell_type": "code",
   "execution_count": 17,
   "id": "guilty-harris",
   "metadata": {},
   "outputs": [
    {
     "data": {
      "text/plain": [
       "array([[-4.73846026e-01, -1.37179875e+00, -2.43429373e-01,\n",
       "         4.16193433e-02, -6.37220185e-01,  3.11216178e-01,\n",
       "         3.23059604e-01, -1.10669817e-01, -3.11335435e-02,\n",
       "        -1.25325310e-01, -4.90461897e-02,  4.64579692e-02,\n",
       "        -4.76652805e-02,  6.04209288e-03, -7.85697385e-02,\n",
       "        -1.66622885e-01,  2.94364476e-02,  7.57746337e-02,\n",
       "        -4.64260707e-02,  2.62454413e-01,  9.18500833e-02,\n",
       "         3.48921713e-02,  1.02138224e-02, -2.28998337e-02,\n",
       "         3.24868812e-03,  1.71750765e-02, -2.41911345e-02,\n",
       "         4.45990216e-03,  3.55806187e+02,  2.73462270e-03],\n",
       "       [ 9.31574875e-02,  2.23232506e-01,  5.98642278e-02,\n",
       "        -1.94002642e-02,  1.13510035e-01, -5.75403139e-02,\n",
       "        -8.34506344e-02,  2.46355860e-02,  8.06542400e-03,\n",
       "         2.38467285e-02,  4.23170129e-03, -3.32369341e-03,\n",
       "         4.58787483e-03, -5.03701886e-03,  8.42378536e-03,\n",
       "         1.57786844e-02, -4.00109230e-03, -8.83047920e-03,\n",
       "         8.95498655e-03, -5.73737451e-02, -1.79939858e-02,\n",
       "         3.29008681e-03,  6.64343661e-03,  1.69166262e-03,\n",
       "         2.48856944e-03, -2.00831228e-03,  2.04007597e-03,\n",
       "        -1.56244046e-03,  3.60776325e+01,  1.59786428e-03],\n",
       "       [-5.82413301e+00, -9.70810449e+00, -4.26679955e+00,\n",
       "         2.16760802e+00, -6.06952398e+00,  3.31109487e+00,\n",
       "         6.69934022e+00, -1.61847515e+00, -4.79056069e-01,\n",
       "        -1.51525495e+00,  1.71445891e-01, -1.89831989e-01,\n",
       "         2.04205804e-01,  5.05144185e-01,  2.50757887e-01,\n",
       "         5.09843008e-01,  3.71061054e-02,  2.49618071e-01,\n",
       "        -7.34066973e-01,  3.82764776e+00,  1.13978451e+00,\n",
       "        -1.05991709e+00, -1.08970989e+00,  1.13570771e-01,\n",
       "        -5.29017434e-01, -1.33802287e-01,  1.89990004e-01,\n",
       "         3.54644399e-02,  3.25451885e+03,  3.25260652e-18],\n",
       "       [-1.86152760e+01, -2.77349364e+01, -1.41952529e+01,\n",
       "         7.74353633e+00, -2.14336508e+01,  1.21625792e+01,\n",
       "         2.49677818e+01, -4.88784879e+00, -1.49940093e+00,\n",
       "        -5.44254753e+00,  5.74604996e-01, -9.95017039e-01,\n",
       "         1.65977534e+00,  1.25282087e+00,  1.86469345e+00,\n",
       "         2.76652555e+00, -5.03616065e-01,  1.26824350e+00,\n",
       "        -1.69197342e+00,  9.90969237e+00,  2.38307955e+00,\n",
       "        -2.52605322e+00, -3.29106157e+00,  4.97542355e-01,\n",
       "        -1.14971512e+00, -3.50334713e-01,  1.65512078e+00,\n",
       "        -2.79509915e-01,  1.03449970e+04,  0.00000000e+00],\n",
       "       [-1.90997711e+00, -3.81171852e+00, -1.50827584e+00,\n",
       "         5.92492342e-01, -2.11118655e+00,  1.10320216e+00,\n",
       "         2.07633970e+00, -5.81407842e-01, -2.27170160e-01,\n",
       "        -4.58600947e-01,  1.26080160e-02, -4.66661806e-02,\n",
       "        -2.65056377e-02,  1.93060647e-01, -7.93181065e-02,\n",
       "        -3.55349112e-02,  6.23442342e-02,  4.04386670e-02,\n",
       "        -1.57176870e-01,  1.32693796e+00,  3.71658966e-01,\n",
       "        -2.53570390e-01, -2.99590552e-01,  1.72998861e-02,\n",
       "        -9.41595804e-02,  3.68060157e-02, -1.15212013e-02,\n",
       "         6.34551361e-02,  1.16457504e+03,  3.72179577e-03]])"
      ]
     },
     "execution_count": 17,
     "metadata": {},
     "output_type": "execute_result"
    }
   ],
   "source": [
    "model.cluster_centers_"
   ]
  },
  {
   "cell_type": "code",
   "execution_count": 18,
   "id": "established-expression",
   "metadata": {},
   "outputs": [
    {
     "data": {
      "text/plain": [
       "2528696369.03016"
      ]
     },
     "execution_count": 18,
     "metadata": {},
     "output_type": "execute_result"
    }
   ],
   "source": [
    "model.inertia_"
   ]
  },
  {
   "cell_type": "code",
   "execution_count": null,
   "id": "sound-trade",
   "metadata": {},
   "outputs": [],
   "source": []
  }
 ],
 "metadata": {
  "kernelspec": {
   "display_name": "Python 3",
   "language": "python",
   "name": "python3"
  },
  "language_info": {
   "codemirror_mode": {
    "name": "ipython",
    "version": 3
   },
   "file_extension": ".py",
   "mimetype": "text/x-python",
   "name": "python",
   "nbconvert_exporter": "python",
   "pygments_lexer": "ipython3",
   "version": "3.7.8"
  }
 },
 "nbformat": 4,
 "nbformat_minor": 5
}
